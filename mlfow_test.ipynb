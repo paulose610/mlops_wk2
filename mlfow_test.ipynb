{
 "cells": [
  {
   "cell_type": "code",
   "execution_count": 1,
   "id": "85706688-a6d9-4706-a091-14b8232b9ce0",
   "metadata": {
    "tags": []
   },
   "outputs": [
    {
     "name": "stdout",
     "output_type": "stream",
     "text": [
      "PROJECT_ID=winged-quanta-472908-n1\n",
      "LOCATION=us-central1\n",
      "BUCKET_URI=gs://mlops-course-winged-quanta-472908-n1-unique\n",
      "BUCKET_NAME=mlops-course-winged-quanta-472908-n1-unique\n"
     ]
    }
   ],
   "source": [
    "!cat .env"
   ]
  },
  {
   "cell_type": "code",
   "execution_count": 1,
   "id": "2342186c-e38e-4aa5-a410-025b22bf21e9",
   "metadata": {
    "tags": []
   },
   "outputs": [],
   "source": [
    "import mlflow\n",
    "from mlflow import MlflowClient\n",
    "from mlflow.models import infer_signature\n",
    "from pprint import pprint\n",
    "import requests\n",
    "\n",
    "response = requests.get('https://api.ipify.org')\n",
    "\n",
    "mlflow.set_tracking_uri(f\"http://{response.text}:8100\")\n",
    "client = MlflowClient(mlflow.get_tracking_uri())\n",
    "all_experiments = client.search_experiments()"
   ]
  },
  {
   "cell_type": "code",
   "execution_count": 2,
   "id": "a4a501ac-730a-40d3-899c-805dce0fa627",
   "metadata": {
    "tags": []
   },
   "outputs": [
    {
     "name": "stdout",
     "output_type": "stream",
     "text": [
      "ID=2 | Name=IRIS classifier: Quickstart-v2 | Stage=active\n",
      "ID=1 | Name=IRIS classifier: Quickstart | Stage=deleted\n",
      "ID=0 | Name=Default | Stage=active\n"
     ]
    }
   ],
   "source": [
    "experiments = client.search_experiments(view_type=\"ALL\")  # includes deleted ones\n",
    "for exp in experiments:\n",
    "    print(f\"ID={exp.experiment_id} | Name={exp.name} | Stage={exp.lifecycle_stage}\")"
   ]
  },
  {
   "cell_type": "code",
   "execution_count": 4,
   "id": "8a909a84-a83f-4020-afbf-f7600bb0d01d",
   "metadata": {
    "tags": []
   },
   "outputs": [
    {
     "data": {
      "text/plain": [
       "'http://34.135.48.47:8100'"
      ]
     },
     "execution_count": 4,
     "metadata": {},
     "output_type": "execute_result"
    }
   ],
   "source": [
    "mlflow.get_tracking_uri()"
   ]
  },
  {
   "cell_type": "code",
   "execution_count": 14,
   "id": "12cdb0d2-f30b-49aa-b445-485bb8495ac3",
   "metadata": {
    "tags": []
   },
   "outputs": [
    {
     "data": {
      "text/plain": [
       "<Experiment: artifact_location='gs://mlops-course-winged-quanta-472908-n1-unique/2', creation_time=1761387321002, experiment_id='2', last_update_time=1761387321002, lifecycle_stage='active', name='IRIS classifier: Quickstart-v2', tags={'mlflow.experimentKind': 'custom_model_development'}>"
      ]
     },
     "execution_count": 14,
     "metadata": {},
     "output_type": "execute_result"
    }
   ],
   "source": [
    "mlflow.set_experiment('IRIS classifier: Quickstart-v2')"
   ]
  },
  {
   "cell_type": "code",
   "execution_count": 126,
   "id": "2f4a88cf-cfca-4265-8f57-0ce55fe93ac4",
   "metadata": {
    "tags": []
   },
   "outputs": [
    {
     "name": "stdout",
     "output_type": "stream",
     "text": [
      "Experiment not found or already active.\n"
     ]
    }
   ],
   "source": [
    "# Restore it if found\n",
    "if exp is not None and exp.lifecycle_stage == \"deleted\":\n",
    "    client.restore_experiment(exp.experiment_id)\n",
    "    print(f\"Restored experiment: {exp.name}\")\n",
    "else:\n",
    "    print(\"Experiment not found or already active.\")"
   ]
  },
  {
   "cell_type": "code",
   "execution_count": 13,
   "id": "7ee7cc50-2ba0-4d5a-afe7-19bb6943028d",
   "metadata": {
    "tags": []
   },
   "outputs": [],
   "source": [
    "import pandas as pd\n",
    "from sklearn.tree import DecisionTreeClassifier\n",
    "from sklearn.metrics import accuracy_score,precision_score, recall_score, f1_score\n",
    "import joblib\n",
    "from datetime import datetime\n",
    "import os\n",
    "\n",
    "# Load the data\n",
    "script_dir = script_dir = os.getcwd()\n",
    "data_path = os.path.join(script_dir, \"data\")\n",
    "X_train = pd.read_csv(os.path.join(data_path, \"X_train.csv\"))\n",
    "X_test = pd.read_csv(os.path.join(data_path, \"X_test.csv\"))\n",
    "y_train = pd.read_csv(os.path.join(data_path, \"y_train.csv\")).values.ravel()  # flatten\n",
    "y_test = pd.read_csv(os.path.join(data_path, \"y_test.csv\")).values.ravel()"
   ]
  },
  {
   "cell_type": "code",
   "execution_count": 11,
   "id": "e010cd08-6c1a-477e-bc1e-d237822786f6",
   "metadata": {
    "tags": []
   },
   "outputs": [],
   "source": [
    "params = {\n",
    "    \"max_depth\": 3,\n",
    "    \"random_state\": 42,\n",
    "    \"min_samples_split\": 2 \n",
    "}"
   ]
  },
  {
   "cell_type": "code",
   "execution_count": 15,
   "id": "0f3c5775-f5e5-49f8-854c-2f164c7c90ac",
   "metadata": {
    "tags": []
   },
   "outputs": [],
   "source": [
    "# Initialize the Decision Tree classifier with some simple hyperparameters\n",
    "clf = DecisionTreeClassifier(**params)\n",
    "\n",
    "# Train the model\n",
    "clf.fit(X_train, y_train)\n",
    "\n",
    "# Evaluate\n",
    "y_pred = clf.predict(X_test)"
   ]
  },
  {
   "cell_type": "code",
   "execution_count": 16,
   "id": "747b3c1e-b603-4b57-b761-4972a65148eb",
   "metadata": {
    "tags": []
   },
   "outputs": [],
   "source": [
    "# Compute metrics\n",
    "metrics = {\n",
    "    \"accuracy\": accuracy_score(y_test, y_pred),\n",
    "    \"precision\": precision_score(y_test, y_pred, average=\"weighted\"),\n",
    "    \"recall\": recall_score(y_test, y_pred, average=\"weighted\"),\n",
    "    \"f1_score\": f1_score(y_test, y_pred, average=\"weighted\")\n",
    "}"
   ]
  },
  {
   "cell_type": "code",
   "execution_count": 17,
   "id": "e5cb902b-1888-4d60-8ca0-8e5caddaf9f3",
   "metadata": {
    "tags": []
   },
   "outputs": [
    {
     "name": "stdout",
     "output_type": "stream",
     "text": [
      "{'accuracy': 1.0, 'precision': 1.0, 'recall': 1.0, 'f1_score': 1.0}\n"
     ]
    }
   ],
   "source": [
    "print(metrics)"
   ]
  },
  {
   "cell_type": "code",
   "execution_count": 18,
   "id": "8720ab38-b48c-48cd-90f7-e27c59528db7",
   "metadata": {
    "tags": []
   },
   "outputs": [
    {
     "name": "stderr",
     "output_type": "stream",
     "text": [
      "Registered model 'IRIS-classifier-dt' already exists. Creating a new version of this model...\n",
      "2025/10/26 17:45:47 INFO mlflow.store.model_registry.abstract_store: Waiting up to 300 seconds for model version to finish creation. Model name: IRIS-classifier-dt, version 3\n"
     ]
    },
    {
     "name": "stdout",
     "output_type": "stream",
     "text": [
      "🏃 View run defiant-frog-792 at: http://136.113.100.212:8100/#/experiments/2/runs/14b5a5def4ce48daa3dc1c98dfd0ea5e\n",
      "🧪 View experiment at: http://136.113.100.212:8100/#/experiments/2\n"
     ]
    },
    {
     "name": "stderr",
     "output_type": "stream",
     "text": [
      "Created version '3' of model 'IRIS-classifier-dt'.\n"
     ]
    }
   ],
   "source": [
    "with mlflow.start_run():\n",
    "    mlflow.log_params(params)\n",
    "    \n",
    "    mlflow.log_metrics(metrics)\n",
    "    \n",
    "    mlflow.set_tag(\"Training info\",\"Decision Tree model IRIS data\")\n",
    "    \n",
    "    signature = infer_signature(X_test[:10], clf.predict(X_test[:10]))\n",
    "    \n",
    "    model_info = mlflow.sklearn.log_model(\n",
    "        sk_model = clf,\n",
    "        name=\"iris_model\",\n",
    "        signature = signature,\n",
    "        input_example = X_train[:10],\n",
    "        registered_model_name = \"IRIS-classifier-dt\"\n",
    "    )"
   ]
  },
  {
   "cell_type": "code",
   "execution_count": 3,
   "id": "f2a27bb6-74d0-4d1b-8d57-e8471934ebad",
   "metadata": {
    "tags": []
   },
   "outputs": [
    {
     "name": "stdout",
     "output_type": "stream",
     "text": [
      "Best model version: 3\n",
      "Run ID: 14b5a5def4ce48daa3dc1c98dfd0ea5e\n",
      "Accuracy: 1.0\n",
      "Stage: None\n"
     ]
    },
    {
     "name": "stderr",
     "output_type": "stream",
     "text": [
      "/home/shared_workspace/mlops_wk2/venv/lib/python3.10/site-packages/tqdm/auto.py:21: TqdmWarning: IProgress not found. Please update jupyter and ipywidgets. See https://ipywidgets.readthedocs.io/en/stable/user_install.html\n",
      "  from .autonotebook import tqdm as notebook_tqdm\n",
      "Downloading artifacts: 100%|██████████| 7/7 [00:00<00:00, 51.22it/s]\n"
     ]
    },
    {
     "name": "stdout",
     "output_type": "stream",
     "text": [
      "Loaded best model from registry: models:/IRIS-classifier-dt/3\n"
     ]
    }
   ],
   "source": [
    "model_name = \"IRIS-classifier-dt\"\n",
    "versions = client.search_model_versions(f\"name='{model_name}'\")\n",
    "\n",
    "best_version = None\n",
    "best_accuracy = 0\n",
    "\n",
    "for v in versions:\n",
    "    run_id = v.run_id\n",
    "    run = client.get_run(run_id)\n",
    "    acc = run.data.metrics.get(\"accuracy\")\n",
    "\n",
    "    if acc is not None and acc > best_accuracy:\n",
    "        best_accuracy = acc\n",
    "        best_version = v\n",
    "\n",
    "if best_version:\n",
    "    print(f\"Best model version: {best_version.version}\")\n",
    "    print(f\"Run ID: {best_version.run_id}\")\n",
    "    print(f\"Accuracy: {best_accuracy}\")\n",
    "    print(f\"Stage: {best_version.current_stage}\")\n",
    "\n",
    "    # Load the best model directly\n",
    "    best_model_uri = f\"models:/{model_name}/{best_version.version}\"\n",
    "    best_model = mlflow.sklearn.load_model(best_model_uri)\n",
    "    print(f\"Loaded best model from registry: {best_model_uri}\")\n",
    "\n",
    "else:\n",
    "    print(\"No versions found for this model.\")\n"
   ]
  },
  {
   "cell_type": "code",
   "execution_count": 21,
   "id": "2d591a53-85cb-4d35-afc3-d74fa1a83de0",
   "metadata": {
    "tags": []
   },
   "outputs": [],
   "source": [
    "# Load eval data\n",
    "test_data = pd.read_csv(os.path.join(data_path, \"validate.csv\")) \n",
    "y_test = test_data[['species']].values.ravel()\n",
    "X_test = test_data.drop('species',axis=1)\n",
    "\n",
    "# Predict\n",
    "y_pred = best_model.predict(X_test)\n",
    "\n",
    "# Compute metrics\n",
    "metrics = {\n",
    "    \"accuracy\": accuracy_score(y_test, y_pred),\n",
    "    \"precision\": precision_score(y_test, y_pred, average=\"weighted\"),\n",
    "    \"recall\": recall_score(y_test, y_pred, average=\"weighted\"),\n",
    "    \"f1_score\": f1_score(y_test, y_pred, average=\"weighted\")\n",
    "}"
   ]
  },
  {
   "cell_type": "code",
   "execution_count": 22,
   "id": "48e0ead2-3644-45ed-8f76-22715337c5e0",
   "metadata": {
    "tags": []
   },
   "outputs": [
    {
     "name": "stdout",
     "output_type": "stream",
     "text": [
      "{'accuracy': 1.0, 'precision': 1.0, 'recall': 1.0, 'f1_score': 1.0}\n"
     ]
    }
   ],
   "source": [
    "print(metrics)"
   ]
  }
 ],
 "metadata": {
  "environment": {
   "kernel": "myproject_venv",
   "name": "workbench-notebooks.m133",
   "type": "gcloud",
   "uri": "us-docker.pkg.dev/deeplearning-platform-release/gcr.io/workbench-notebooks:m133"
  },
  "kernelspec": {
   "display_name": "mlops_venv",
   "language": "python",
   "name": "myproject_venv"
  },
  "language_info": {
   "codemirror_mode": {
    "name": "ipython",
    "version": 3
   },
   "file_extension": ".py",
   "mimetype": "text/x-python",
   "name": "python",
   "nbconvert_exporter": "python",
   "pygments_lexer": "ipython3",
   "version": "3.10.18"
  }
 },
 "nbformat": 4,
 "nbformat_minor": 5
}
